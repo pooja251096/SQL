{
 "cells": [
  {
   "cell_type": "code",
   "execution_count": 1,
   "id": "079fe782",
   "metadata": {},
   "outputs": [
    {
     "name": "stdout",
     "output_type": "stream",
     "text": [
      "Enter file name: mbox.txt\n",
      "Counts:\n",
      "iupui.edu 8\n",
      "umich.edu 7\n",
      "uct.ac.za 6\n",
      "media.berkeley.edu 4\n",
      "caret.cam.ac.uk 1\n",
      "gmail.com 1\n"
     ]
    }
   ],
   "source": [
    "import sqlite3\n",
    "\n",
    "conn = sqlite3.connect('email_counts.sqlite')\n",
    "cur = conn.cursor()\n",
    "\n",
    "cur.execute('''\n",
    "CREATE TABLE IF NOT EXISTS Counts (\n",
    "    org TEXT,\n",
    "    count INTEGER\n",
    ")''')\n",
    "\n",
    "fname = input('Enter file name: ')\n",
    "\n",
    "try:\n",
    "    fhand = open(fname)\n",
    "except:\n",
    "    print('File cannot be opened:', fname)\n",
    "    quit()\n",
    "\n",
    "cur.execute('DELETE FROM Counts')\n",
    "\n",
    "for line in fhand:\n",
    "    if not line.startswith('From: '):\n",
    "        continue\n",
    "    pieces = line.split()\n",
    "    email = pieces[1]\n",
    "    org = email.split('@')[1]\n",
    "    cur.execute('SELECT count FROM Counts WHERE org = ?', (org,))\n",
    "    row = cur.fetchone()\n",
    "    if row is None:\n",
    "        cur.execute('INSERT INTO Counts (org, count) VALUES (?, 1)', (org,))\n",
    "    else:\n",
    "        cur.execute('UPDATE Counts SET count = count + 1 WHERE org = ?', (org,))\n",
    "\n",
    "conn.commit()\n",
    "\n",
    "print('Counts:')\n",
    "sqlstr = 'SELECT org, count FROM Counts ORDER BY count DESC'\n",
    "for row in cur.execute(sqlstr):\n",
    "    print(row[0], row[1])\n",
    "\n",
    "cur.close()\n",
    "conn.close()\n"
   ]
  },
  {
   "cell_type": "code",
   "execution_count": null,
   "id": "7d0e6816",
   "metadata": {},
   "outputs": [],
   "source": []
  }
 ],
 "metadata": {
  "kernelspec": {
   "display_name": "Python 3 (ipykernel)",
   "language": "python",
   "name": "python3"
  },
  "language_info": {
   "codemirror_mode": {
    "name": "ipython",
    "version": 3
   },
   "file_extension": ".py",
   "mimetype": "text/x-python",
   "name": "python",
   "nbconvert_exporter": "python",
   "pygments_lexer": "ipython3",
   "version": "3.11.5"
  }
 },
 "nbformat": 4,
 "nbformat_minor": 5
}
